{
 "cells": [
  {
   "cell_type": "markdown",
   "metadata": {},
   "source": [
    "# Cohere Multi-Step tool use with the Bedrock Converse API\n",
    "\n",
    "\n",
    "#### Introduction\n",
    "In this notebook, we demonstrate how to use the Bedrock Converse API with the `list_calendar_events` and `create_calendar_event` tools to book appointments. Booking the correct appointment requires the model to first check for an available slot by listing existing events, reasoning about the correct slot to book the new appointment and then finally invoking the right tool to create the calendar event. All code was orinally provided by Cohere and this notebook supplements using Amazon Bedrock's Converse API."
   ]
  },
  {
   "cell_type": "markdown",
   "metadata": {},
   "source": [
    "#### Amazon Bedrock\n",
    "Amazon Bedrock is a fully managed service that provides access to a wide range of powerful foundational models(FMs) through an API."
   ]
  },
  {
   "cell_type": "code",
   "execution_count": null,
   "metadata": {},
   "outputs": [],
   "source": [
    "%pip install boto3 IPython"
   ]
  },
  {
   "cell_type": "markdown",
   "metadata": {},
   "source": [
    "#### Initialize the Bedrock client and required imports"
   ]
  },
  {
   "cell_type": "code",
   "execution_count": null,
   "metadata": {},
   "outputs": [],
   "source": [
    "# Instantiate the Bedrock client\n",
    "import boto3\n",
    "import json\n",
    "bedrock_rt = boto3.client(service_name=\"bedrock-runtime\")"
   ]
  },
  {
   "cell_type": "markdown",
   "metadata": {},
   "source": [
    "##### Below sets default model to command R+ model with option to change to Command R"
   ]
  },
  {
   "cell_type": "code",
   "execution_count": null,
   "metadata": {},
   "outputs": [],
   "source": [
    "#define command R and command R+ models\n",
    "DEFAULT_MODEL= \"cohere.command-r-plus-v1:0\"\n",
    "COMMAND_R_PLUS = \"cohere.command-r-plus-v1:0\"\n",
    "COMMAND_R = \"cohere.command-r-v1:0\"\n",
    "model_id = DEFAULT_MODEL"
   ]
  },
  {
   "cell_type": "markdown",
   "metadata": {},
   "source": [
    "#### Define the tools\n",
    "##### First let's configure the functions for list calendar events and create calendar events"
   ]
  },
  {
   "cell_type": "code",
   "execution_count": null,
   "metadata": {},
   "outputs": [],
   "source": [
    "# Define the tools\n",
    "\n",
    "def list_calendar_events(date: str):\n",
    "    events =  '[{\"start\": \"14:00\", \"end\": \"15:00\"}, {\"start\": \"15:00\", \"end\": \"16:00\"}, {\"start\": \"17:00\", \"end\": \"18:00\"}]'\n",
    "    print(f\"Listing events: {events}\")\n",
    "    return events\n",
    "\n",
    "def create_calendar_event(date: str, time: str, duration: int):\n",
    "  print(f\"Creating a {duration} hour long event at {time} on {date}\")\n",
    "  return True\n",
    "  "
   ]
  },
  {
   "cell_type": "markdown",
   "metadata": {},
   "source": [
    "#### Define the tools\n",
    "##### Next, we define the json to define the actual tools to then send into Bedrock. This is the standard structure to use for Tool Use with Cohere modles and the Bedrock Converse API."
   ]
  },
  {
   "cell_type": "code",
   "execution_count": null,
   "metadata": {},
   "outputs": [],
   "source": [
    "\n",
    "list_calendar_events_tool = {\n",
    "        'name': 'list_calendar_events',\n",
    "        'description': 'returns a list of calendar events for the specified date, including the start time and end time for each event',\n",
    "        'inputSchema': {\n",
    "            'json': {\n",
    "                'type': 'object',\n",
    "                'properties': {\n",
    "                    'date': {\n",
    "                        'type': 'string',\n",
    "                        'description': 'the date to list events for, formatted as mm/dd/yy'\n",
    "                    }\n",
    "                },\n",
    "                'required': [\n",
    "                    'date'\n",
    "                ]\n",
    "            }\n",
    "        }\n",
    "    }\n",
    "\n",
    "\n",
    "create_calendar_event_tool = {\n",
    "        'name': 'create_calendar_event_tool',\n",
    "        'description': 'creates a calendar event of the specified duration at the specified time and date',\n",
    "        'inputSchema': {\n",
    "            'json': {\n",
    "                'type': 'object',\n",
    "                'properties': {\n",
    "                    'date': {\n",
    "                        'type': 'string',\n",
    "                        'description': 'the date to list events for, formatted as mm/dd/yy'\n",
    "                    },\n",
    "                    'time': {\n",
    "                        'type': 'string',\n",
    "                        'description': 'the time of the event, formatted using 24h military time formatting'\n",
    "                    },\n",
    "                    'duration': {\n",
    "                        'type': 'float',\n",
    "                        'description': 'the number of hours the event lasts for'\n",
    "                    }\n",
    "                    \n",
    "                },\n",
    "            \n",
    "                'required': [\n",
    "                    'date', 'time', 'duration'\n",
    "                ]\n",
    "            }\n",
    "              \n",
    "            }\n",
    "        }"
   ]
  },
  {
   "cell_type": "markdown",
   "metadata": {},
   "source": [
    "##### Take note of how the tools are then defined in the tool_config variable. We will create the toolConfig parameter by calling the variable \"tool_config\" and passing it into the Converse API parameter to set toolConfig"
   ]
  },
  {
   "cell_type": "code",
   "execution_count": null,
   "metadata": {},
   "outputs": [],
   "source": [
    "tool_config = {'tools': []}\n",
    "\n",
    "tool_config['tools'].append({\n",
    "    'toolSpec': list_calendar_events_tool\n",
    "})\n",
    "\n",
    "\n",
    "tool_config['tools'].append({\n",
    "    'toolSpec': create_calendar_event_tool\n",
    "               \n",
    "})"
   ]
  },
  {
   "cell_type": "markdown",
   "metadata": {},
   "source": [
    "##### Define the tool function to identify which tool to call"
   ]
  },
  {
   "cell_type": "code",
   "execution_count": null,
   "metadata": {},
   "outputs": [],
   "source": [
    "def invoke_tool(tool_call):\n",
    "  # Iterate over the tool calls generated by the model\n",
    "    if tool_call['name'] == 'list_calendar_events':\n",
    "        date = tool_call['input']['date']\n",
    "        return [{\n",
    "             \"events\": list_calendar_events(date)\n",
    "          }]\n",
    "    elif tool_call['name'] == 'create_calendar_event_tool':\n",
    "        date = tool_call['input']['date']\n",
    "        time = tool_call['input']['time']\n",
    "        duration = tool_call['input']['duration']\n",
    "        return [{\n",
    "             create_calendar_event(date, time, duration)\n",
    "           }]\n",
    "    else:\n",
    "        raise f\"Unnown tool name '{tool_call['name']}'\""
   ]
  },
  {
   "cell_type": "markdown",
   "metadata": {},
   "source": [
    "#### Then, call the Converse API and return the output response. Append each response to the list of messages to keep the standardized format for Bedrock APIs"
   ]
  },
  {
   "cell_type": "code",
   "execution_count": null,
   "metadata": {},
   "outputs": [],
   "source": [
    "# Check what tools the model wants to use and how to use them\n",
    "additional_model_fields ={\"preamble\": \"Today is Thursday, may 23, 2024\"}\n",
    "input_text = \"book an hour long appointment for the first available free slot after 3pm\"\n",
    "\n",
    "#create an initial message to pass the input text into. This is standard format for messages parameter in Converse API\n",
    "messages = []\n",
    "initial_message = {\n",
    "    \"role\": \"user\",\n",
    "    \"content\": [\n",
    "        { \"text\": input_text } \n",
    "    ],\n",
    "}\n",
    "messages.append(initial_message)\n",
    "\n",
    "#call the converse API by passing in the additional parameters and the tool_config set earlier\n",
    "res = bedrock_rt.converse(\n",
    "    modelId=model_id,\n",
    "    messages=messages,\n",
    "    additionalModelRequestFields=additional_model_fields,\n",
    "    toolConfig=tool_config)\n",
    "\n",
    "response_message = res['output']['message']\n",
    "#we want to pass this response_message back in\n",
    "response_content = response_message['content']\n",
    "messages.append(response_message)"
   ]
  },
  {
   "cell_type": "code",
   "execution_count": null,
   "metadata": {},
   "outputs": [],
   "source": [
    "#Now will be instantiating which tools to access and passing the response back into the API.\n",
    "follow_up_message = []\n",
    "print(response_content[0]['text'])\n",
    "for content in response_message['content']:\n",
    "    if 'toolUse' in content:\n",
    "        tool_use_block = content['toolUse']\n",
    "        tool_use_name = tool_use_block['name']\n",
    "        \n",
    "        #call the function to invoke which tool to use\n",
    "        tool_result_value = invoke_tool(tool_call)\n",
    "\n",
    "        follow_up_message.append({\n",
    "                \"toolResult\": {\n",
    "                    \"toolUseId\": tool_use_block['toolUseId'],\n",
    "                    \"content\": [\n",
    "                        {\n",
    "                            \"json\": {\n",
    "                                \"result\": tool_result_value\n",
    "                            }\n",
    "                        }\n",
    "                    ]\n",
    "                }\n",
    "            })\n",
    "\n",
    "if len(follow_up_message) > 0:\n",
    "    \n",
    "    follow_up_message = {\n",
    "        \"role\": \"user\",\n",
    "        \"content\": follow_up_message,\n",
    "    }\n",
    "    \n",
    "    messages.append(follow_up_message)\n",
    "\n",
    "    response = bedrock_rt.converse(\n",
    "        modelId= model_id,\n",
    "        messages=messages,\n",
    "        toolConfig= tool_config\n",
    "    )\n",
    "    \n",
    "    response_message = response['output']['message']\n",
    "    messages.append(response_message)"
   ]
  },
  {
   "cell_type": "markdown",
   "metadata": {},
   "source": [
    "#### Conclusion\n",
    "This notebook follows the official Cohere Cookbooks and converts the Tool_Use notebook to use the Bedrock Converse API. In this notebook we explored multi-tool use as well as bring in conversation history from an initial output into a second turn in the conversation"
   ]
  }
 ],
 "metadata": {
  "kernelspec": {
   "display_name": "Python 3",
   "language": "python",
   "name": "python3"
  },
  "language_info": {
   "codemirror_mode": {
    "name": "ipython",
    "version": 3
   },
   "file_extension": ".py",
   "mimetype": "text/x-python",
   "name": "python",
   "nbconvert_exporter": "python",
   "pygments_lexer": "ipython3",
   "version": "3.11.9"
  }
 },
 "nbformat": 4,
 "nbformat_minor": 2
}
