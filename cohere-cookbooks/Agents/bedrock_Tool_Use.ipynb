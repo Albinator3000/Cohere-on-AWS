{
 "cells": [
  {
   "cell_type": "markdown",
   "metadata": {},
   "source": [
    "# Cohere Multi-Step tool using Amazon Bedrock Converse API\n",
    "\n",
    "---\n",
    "\n",
    "#### Introduction\n",
    "In this notebook, we demonstrate how to use the Bedrock Converse API with the `list_calendar_events` and `create_calendar_event` tools to book appointments. Booking the correct appointment requires the model to first check for an available slot by listing existing events, reasoning about the correct slot to book the new appointment and then finally invoking the right tool to create the calendar event. All code was orinally provided by Cohere and this notebook is a supplement of the original notebook but now instead uses Amazon Bedrock's Converse API.\n",
    "\n",
    "---"
   ]
  },
  {
   "cell_type": "markdown",
   "metadata": {},
   "source": [
    "## Amazon Bedrock\n",
    "\n",
    "Amazon Bedrock is a fully managed service that provides access to a wide range of powerful foundational models(FMs) through an API.\n",
    "\n",
    "## Bedrock Converse API\n",
    "\n",
    "The AWS Bedrock Converse API provides a consistent interface for sending and receiving messages to and from different large language models (LLMs) on the Bedrock platform. It allows developers to write code once and use it with various models, making it easier to switch between them. The Converse API simplifies tool use (function calling) with LLMs by providing a standardized way to define and invoke tools across different models. It eliminates the need for model-specific tool processing or structure. With the Converse API, developers can define tools using a JSON schema, and the LLM can generate JSON output conforming to that schema, effectively invoking the tool without an actual function call. \n",
    "\n",
    "By abstracting away the differences in tool use conventions across models, the Converse API makes it easier to integrate and utilize tools with LLMs on the Bedrock platform. This improves the success rate of agent tasks and reduces hallucinations, as models like Cohere have specific tool use APIs that enhance their performance.\n",
    "\n",
    "## Getting Started\n",
    "\n",
    "### Step 0: Install Dependencies\n",
    "\n",
    "Here, we will install all the required dependencies to run this notebook.\n",
    "\n"
   ]
  },
  {
   "cell_type": "code",
   "execution_count": 117,
   "metadata": {},
   "outputs": [
    {
     "name": "stdout",
     "output_type": "stream",
     "text": [
      "Note: you may need to restart the kernel to use updated packages.\n"
     ]
    },
    {
     "name": "stderr",
     "output_type": "stream",
     "text": [
      "\n",
      "[notice] A new release of pip is available: 23.1.2 -> 24.0\n",
      "[notice] To update, run: python.exe -m pip install --upgrade pip\n"
     ]
    }
   ],
   "source": [
    "%pip install boto3 IPython --quiet"
   ]
  },
  {
   "cell_type": "markdown",
   "metadata": {},
   "source": [
    "#### Now lets import the required modules to run the notbook"
   ]
  },
  {
   "cell_type": "code",
   "execution_count": 118,
   "metadata": {},
   "outputs": [],
   "source": [
    "# Instantiate the Bedrock client\n",
    "import boto3\n",
    "import json\n",
    "bedrock_rt = boto3.client(service_name=\"bedrock-runtime\")"
   ]
  },
  {
   "cell_type": "markdown",
   "metadata": {},
   "source": [
    "### Step 1: Select Model\n",
    "\n",
    "Below sets default model to command R+ model with option to change to Command R"
   ]
  },
  {
   "cell_type": "code",
   "execution_count": 119,
   "metadata": {},
   "outputs": [],
   "source": [
    "#define command R and command R+ models\n",
    "DEFAULT_MODEL= \"cohere.command-r-plus-v1:0\"\n",
    "COMMAND_R_PLUS = \"cohere.command-r-plus-v1:0\"\n",
    "COMMAND_R = \"cohere.command-r-v1:0\"\n",
    "model_id = DEFAULT_MODEL"
   ]
  },
  {
   "cell_type": "markdown",
   "metadata": {},
   "source": [
    "### Step 2: Create tool functions\n",
    "\n",
    "Below code creates two functions for each tool we want to use. We define functions for the list_calendar_events as well as create_calendar_event"
   ]
  },
  {
   "cell_type": "code",
   "execution_count": 120,
   "metadata": {},
   "outputs": [],
   "source": [
    "# Define the tools\n",
    "\n",
    "def list_calendar_events(date: str):\n",
    "    events =  '[{\"start\": \"14:00\", \"end\": \"15:00\"}, {\"start\": \"15:00\", \"end\": \"16:00\"}, {\"start\": \"17:00\", \"end\": \"18:00\"}]'\n",
    "    print(f\"Listing events: {events}\")\n",
    "    return events\n",
    "\n",
    "def create_calendar_event(date: str, time: str, duration: int):\n",
    "  print(f\"Creating a {duration} hour long event at {time} on {date}\")\n",
    "  return True\n",
    "  "
   ]
  },
  {
   "cell_type": "markdown",
   "metadata": {},
   "source": [
    "### Step 3: Define the tools\n",
    "\n",
    "Next, we define the json to define the actual tools to then send into Bedrock. This is the standard structure to use for tool use (function calling) with Cohere models with Bedrock Converse API.\n",
    "\n",
    "We set the description to a value that accurately explains what we want the tool to do. It is important to be clear, concise for actions the tool will do. This is because the model will leverage these descriptions when selecting the tools to answer customers query or fufil the input request."
   ]
  },
  {
   "cell_type": "code",
   "execution_count": 121,
   "metadata": {},
   "outputs": [],
   "source": [
    "\n",
    "list_calendar_events_tool = {\n",
    "        'name': 'list_calendar_events',\n",
    "        'description': 'returns a list of calendar events for the specified date, including the start time and end time for each event',\n",
    "        'inputSchema': {\n",
    "            'json': {\n",
    "                'type': 'object',\n",
    "                'properties': {\n",
    "                    'date': {\n",
    "                        'type': 'string',\n",
    "                        'description': 'the date to list events for, formatted as mm/dd/yy'\n",
    "                    }\n",
    "                },\n",
    "                'required': [\n",
    "                    'date'\n",
    "                ]\n",
    "            }\n",
    "        }\n",
    "    }\n",
    "\n",
    "\n",
    "create_calendar_event_tool = {\n",
    "        'name': 'create_calendar_event_tool',\n",
    "        'description': 'creates a calendar event of the specified duration at the specified time and date',\n",
    "        'inputSchema': {\n",
    "            'json': {\n",
    "                'type': 'object',\n",
    "                'properties': {\n",
    "                    'date': {\n",
    "                        'type': 'string',\n",
    "                        'description': 'the date to list events for, formatted as mm/dd/yy'\n",
    "                    },\n",
    "                    'time': {\n",
    "                        'type': 'string',\n",
    "                        'description': 'the time of the event, formatted using 24h military time formatting'\n",
    "                    },\n",
    "                    'duration': {\n",
    "                        'type': 'float',\n",
    "                        'description': 'the number of hours the event lasts for'\n",
    "                    }\n",
    "                    \n",
    "                },\n",
    "            \n",
    "                'required': [\n",
    "                    'date', 'time', 'duration'\n",
    "                ]\n",
    "            }\n",
    "              \n",
    "            }\n",
    "        }"
   ]
  },
  {
   "cell_type": "markdown",
   "metadata": {},
   "source": [
    "## Step 4: Tool Configuration for Bedrock Converse API\n",
    "\n",
    "The `tool_config` variable is a crucial component when setting up the Bedrock Converse API. It defines the configuration for the tools that the llm can use during conversations.\n",
    "\n",
    "Here is an example of the sructure of `tool_config`\n",
    "\n",
    "```python\n",
    "tool_config = {\n",
    "    \"type\": \"structured_tool\",\n",
    "    \"function\": {\n",
    "        \"name\": \"get_current_weather\",\n",
    "        \"description\": \"Get the current weather in a given location\",\n",
    "        \"parameters\": {\n",
    "            \"type\": \"object\",\n",
    "            \"properties\": {\n",
    "                \"location\": {\n",
    "                    \"type\": \"string\",\n",
    "                    \"description\": \"The city and state, e.g. San Francisco, CA\"\n",
    "                },\n",
    "                \"unit\": {\n",
    "                    \"type\": \"string\",\n",
    "                    \"enum\": [\"celsius\", \"fahrenheit\"]\n",
    "                }\n",
    "            },\n",
    "            \"required\": [\"location\"]\n",
    "        }\n",
    "    }\n",
    "}\n"
   ]
  },
  {
   "cell_type": "markdown",
   "metadata": {},
   "source": [
    "We will create the tool_config by appending each tool defined above. "
   ]
  },
  {
   "cell_type": "code",
   "execution_count": 122,
   "metadata": {},
   "outputs": [],
   "source": [
    "tool_config = {'tools': []}\n",
    "\n",
    "tool_config['tools'].append({\n",
    "    'toolSpec': list_calendar_events_tool\n",
    "})\n",
    "\n",
    "\n",
    "tool_config['tools'].append({\n",
    "    'toolSpec': create_calendar_event_tool\n",
    "               \n",
    "})"
   ]
  },
  {
   "cell_type": "markdown",
   "metadata": {},
   "source": [
    "## Step 5: Define invoke_tool function to call the right tool\n",
    "\n",
    "We define this function to help us identify which tool the llm shoud used once the name of the tool is identied. The Converse API will output a tool block including the name of the tool the lllm identied should be used. \n"
   ]
  },
  {
   "cell_type": "code",
   "execution_count": 127,
   "metadata": {},
   "outputs": [],
   "source": [
    "def invoke_tool(tool_call):\n",
    "  # Iterate over the tool calls generated by the model\n",
    "    if tool_call['name'] == 'list_calendar_events':\n",
    "        date = tool_call['input']['date']\n",
    "        return [{\n",
    "             \"events\": list_calendar_events(date)\n",
    "          }]\n",
    "    elif tool_call['name'] == 'create_calendar_event_tool':\n",
    "        date = tool_call['input']['date']\n",
    "        time = tool_call['input']['time']\n",
    "        duration = tool_call['input']['duration']\n",
    "        return [{\n",
    "             \"is success\": create_calendar_event(date, time, duration)\n",
    "           }]\n",
    "    else:\n",
    "        raise f\"Unnown tool name '{tool_call['name']}'\""
   ]
  },
  {
   "cell_type": "markdown",
   "metadata": {},
   "source": [
    "Now we call the Converse API and return the output response. Append each response to the list of messages to keep the standardized format for Bedrock APIs"
   ]
  },
  {
   "cell_type": "code",
   "execution_count": 131,
   "metadata": {},
   "outputs": [
    {
     "name": "stdout",
     "output_type": "stream",
     "text": [
      "The model recommends doing the following tool calls:\n",
      "\n",
      "\n",
      "{'toolUseId': 'tooluse_0TM_DMilTka0vBAOph1WSw', 'name': 'list_calendar_events', 'input': {'date': '05/23/2024'}}\n"
     ]
    }
   ],
   "source": [
    "# Check what tools the model wants to use and how to use them\n",
    "additional_model_fields ={\"preamble\": \"\"\"\n",
    "## Task & Context\n",
    "You help people answer their questions and other requests interactively. You will be asked a very wide array of requests on all kinds of topics. You will be equipped with a wide range of search engines or similar tools to help you, which you use to research your answer. You should focus on serving the user's needs as best you can, which will be wide-ranging.\n",
    "\n",
    "## Style Guide\n",
    "Unless the user asks for a different style of answer, you should answer in full sentences, using proper grammar and spelling.\n",
    "                          \n",
    "## Current Date\n",
    "Today is Thursday, may 23, 2024                      \n",
    "\"\"\"\n",
    "}\n",
    "\n",
    "#additional_model_fields ={\"preamble\": \"Today is Thursday, may 23, 2024\"}\n",
    "input_text = \"can you check when the first available free slot after 3pm is and then make an hour long appointment for that day\"\n",
    "def converse(messages, tool_config,  model_id):\n",
    "    response = bedrock_rt.converse(\n",
    "        messages=messages,\n",
    "        toolConfig=tool_config,\n",
    "        additionalModelRequestFields=additional_model_fields,\n",
    "        modelId = model_id\n",
    "    )\n",
    "    return response\n",
    "\n",
    "#create an initial message to pass the input text into. This is standard format for messages parameter in Converse API\n",
    "messages =[]\n",
    "messages.append({\n",
    "        \"role\": \"user\",\n",
    "        \"content\": [{\"text\": input_text}]\n",
    "    }\n",
    ")\n",
    "\n",
    "response = converse(messages, tool_config, model_id)\n",
    "\n",
    "response_message = response['output']['message']\n",
    "#we want to pass this response_message back in\n",
    "response_content = response_message['content']\n",
    "messages.append(response_message)\n",
    "\n",
    "print(\"The model recommends doing the following tool calls:\")\n",
    "for content in response['output']['message']['content']:\n",
    "    if 'toolUse' in content:\n",
    "        print(\"\\n\")\n",
    "        print(content['toolUse'])"
   ]
  },
  {
   "cell_type": "markdown",
   "metadata": {},
   "source": [
    "## Step 6: Tool Invocation and Response Handling in Bedrock Converse API\n",
    "\n",
    "This code snippet demonstrates how to handle tool invocations and process responses in the context of the Bedrock Converse API. It's a crucial part of implementing a conversational AI system that can use external tools to enhance its capabilities."
   ]
  },
  {
   "cell_type": "code",
   "execution_count": 133,
   "metadata": {},
   "outputs": [
    {
     "name": "stdout",
     "output_type": "stream",
     "text": [
      "Creating a 1 hour long event at 18:00 on 05/23/2024\n",
      "I will first check the user's calendar for 23 May 2024 after 3pm to find the first available slot. Then, I will create an hour-long appointment for that time.\n",
      "I will first check the user's calendar for 23 May 2024 after 3pm to find the first available slot. Then, I will create an hour-long appointment for that time.\n"
     ]
    }
   ],
   "source": [
    "follow_up_message = []\n",
    "\n",
    "for content in response_message['content']:\n",
    "    if 'toolUse' in content:\n",
    "\n",
    "        tool_use_block = content['toolUse']\n",
    "        tool_use_name = tool_use_block['name']\n",
    "        tool_result_value = invoke_tool(tool_use_block)\n",
    "        follow_up_message.append({\n",
    "            \"toolResult\": {\n",
    "                \"toolUseId\": tool_use_block['toolUseId'],\n",
    "                \"content\": [{\"json\": {\"result\": tool_result_value}}]\n",
    "            }\n",
    "        })\n",
    "print(response_content[0]['text'])\n",
    "\n",
    "if follow_up_message:\n",
    "    follow_up_message = {\"role\": \"user\", \"content\": follow_up_message}\n",
    "    messages.append(follow_up_message)\n",
    "    response = bedrock_rt.converse(\n",
    "        modelId=model_id,\n",
    "        messages=messages,\n",
    "        toolConfig=tool_config\n",
    "    )\n",
    "    response_message = response['output']['message']\n",
    "    messages.append(response_message)\n",
    "print(response_content[0]['text'])"
   ]
  },
  {
   "cell_type": "markdown",
   "metadata": {},
   "source": [
    "#### Conclusion\n",
    "This notebook follows the official Cohere Cookbooks and converts the original Cohere cookbook for multi tool use into a notebook that uses the Bedrock Converse API. We explored multi-tool use as well as bring in conversation history from an initial output into a second turn in the conversation"
   ]
  },
  {
   "cell_type": "markdown",
   "metadata": {},
   "source": []
  }
 ],
 "metadata": {
  "kernelspec": {
   "display_name": "Python 3",
   "language": "python",
   "name": "python3"
  },
  "language_info": {
   "codemirror_mode": {
    "name": "ipython",
    "version": 3
   },
   "file_extension": ".py",
   "mimetype": "text/x-python",
   "name": "python",
   "nbconvert_exporter": "python",
   "pygments_lexer": "ipython3",
   "version": "3.11.4"
  }
 },
 "nbformat": 4,
 "nbformat_minor": 2
}
