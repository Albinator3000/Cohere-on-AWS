{
  "cells": [
    {
      "cell_type": "markdown",
      "metadata": {
        "id": "YN-eakfxtLGd"
      },
      "source": [
        "# Single Tool Use for Cohere on Bedrock Converse API\n",
        "\n",
        "---\n",
        "\n",
        "## Introduction\n",
        "In this notebook, we demonstrate how to use the Bedrock Converse API with the `list_calendar_events` and `create_calendar_event` tools to book appointments. Booking the correct appointment requires the model to first check for an available slot by listing existing events, reasoning about the correct slot to book the new appointment and then finally invoking the right tool to create the calendar event. All code was orinally provided by Cohere and this notebook is a supplement of the original notebook but now instead uses Amazon Bedrock's Converse API.\n",
        "\n",
        "\n",
        "Tool use allows customers to connect their large language models to external tools like search engines, APIs, functions, databases, etc. Learn more on Cohere's original cookbook for this notebook here: https://docs.cohere.com/page/basic-tool-use\n",
        "\n",
        "This allows the customer's model to unlock a richer set of behaviors by leveraging data stored in tools, taking actions through APIs, interacting with a vector database, querying a search engine, etc.\n",
        "\n",
        "This is particularly valuable for enterprise customers, since a lot of enterprise data lives in external sources.\n",
        "\n",
        "---"
      ]
    },
    {
      "cell_type": "markdown",
      "metadata": {},
      "source": [
        "## Getting Started\n",
        "\n",
        "### Step 0: Install Dependencies\n",
        "\n",
        "Here, we will install all the required dependencies to run this notebook."
      ]
    },
    {
      "cell_type": "code",
      "execution_count": null,
      "metadata": {
        "colab": {
          "base_uri": "https://localhost:8080/"
        },
        "id": "us5dkKrLCbXW",
        "outputId": "94c97f62-77fb-4492-a4e4-d9eeee4e438c"
      },
      "outputs": [],
      "source": [
        "pip install boto3==1.34.120 --quiet"
      ]
    },
    {
      "cell_type": "markdown",
      "metadata": {},
      "source": [
        "### Step 1: Select Model\n",
        "\n",
        "Below sets default model to command R+ model with option to change to Command R"
      ]
    },
    {
      "cell_type": "code",
      "execution_count": null,
      "metadata": {
        "id": "j0DC3iPftLGo"
      },
      "outputs": [],
      "source": [
        "DEFAULT_MODEL= \"cohere.command-r-plus-v1:0\"\n",
        "COMMAND_R_PLUS = \"cohere.command-r-plus-v1:0\"\n",
        "COMMAND_R = \"cohere.command-r-v1:0\"\n",
        "model_id = DEFAULT_MODEL"
      ]
    },
    {
      "cell_type": "markdown",
      "metadata": {},
      "source": [
        "Now lets import the required modules to run the notbook and set up the Bedrock client"
      ]
    },
    {
      "cell_type": "code",
      "execution_count": null,
      "metadata": {},
      "outputs": [],
      "source": [
        "import boto3, json\n",
        "bedrock_rt = boto3.client(service_name=\"bedrock-runtime\", region_name = \"us-east-1\")"
      ]
    },
    {
      "cell_type": "markdown",
      "metadata": {
        "id": "0T7yc1PltLGp"
      },
      "source": [
        "### Step 2: Create a mock database\n",
        "First, we'll define the mock data that our tools will query. This data represents sales reports and a product catalog."
      ]
    },
    {
      "cell_type": "code",
      "execution_count": null,
      "metadata": {
        "id": "yZffY8xItLGp"
      },
      "outputs": [],
      "source": [
        "# Mock database containing daily sales reports\n",
        "sales_database = {\n",
        "    '2023-09-28': {\n",
        "        'total_sales_amount': 5000,\n",
        "        'total_units_sold': 100,\n",
        "    },\n",
        "    '2023-09-29': {\n",
        "        'total_sales_amount': 10000,\n",
        "        'total_units_sold': 250,\n",
        "    },\n",
        "    '2023-09-30': {\n",
        "        'total_sales_amount': 8000,\n",
        "        'total_units_sold': 200,\n",
        "    }\n",
        "}\n",
        "\n",
        "# Mock product catalog\n",
        "product_catalog = {\n",
        "    'Electronics': [\n",
        "        {'product_id': 'E1001', 'name': 'Smartphone', 'price': 500, 'stock_level': 20},\n",
        "        {'product_id': 'E1002', 'name': 'Laptop', 'price': 1000, 'stock_level': 15},\n",
        "        {'product_id': 'E1003', 'name': 'Tablet', 'price': 300, 'stock_level': 25},\n",
        "    ],\n",
        "    'Clothing': [\n",
        "        {'product_id': 'C1001', 'name': 'T-Shirt', 'price': 20, 'stock_level': 100},\n",
        "        {'product_id': 'C1002', 'name': 'Jeans', 'price': 50, 'stock_level': 80},\n",
        "        {'product_id': 'C1003', 'name': 'Jacket', 'price': 100, 'stock_level': 40},\n",
        "    ]\n",
        "}"
      ]
    },
    {
      "cell_type": "markdown",
      "metadata": {
        "id": "6TGWYiOdtLGp"
      },
      "source": [
        "Now, we'll define the tools that simulate querying this database.  \n",
        "You could for example use the API of an enterprise sales platform.\n",
        "\n"
      ]
    },
    {
      "cell_type": "code",
      "execution_count": null,
      "metadata": {
        "id": "YuIH4us8tLGp"
      },
      "outputs": [],
      "source": [
        "def query_daily_sales_report(day: str) -> dict:\n",
        "    \"\"\"\n",
        "    Function to retrieve the sales report for the given day\n",
        "    \"\"\"\n",
        "    report = sales_database.get(day, {})\n",
        "    if report:\n",
        "        return {\n",
        "            'date': day,\n",
        "            'summary': f\"Total Sales Amount: {report['total_sales_amount']}, Total Units Sold: {report['total_units_sold']}\"\n",
        "        }\n",
        "    else:\n",
        "        return {'date': day, 'summary': 'No sales data available for this day.'}\n",
        "\n",
        "\n",
        "def query_product_catalog(category: str) -> dict:\n",
        "    \"\"\"\n",
        "    Function to retrieve products for the given category\n",
        "    \"\"\"\n",
        "    products = product_catalog.get(category, [])\n",
        "    return {\n",
        "        'category': category,\n",
        "        'products': products\n",
        "    }\n",
        "\n",
        "\n",
        "functions_map = {\n",
        "    \"query_daily_sales_report\": query_daily_sales_report,\n",
        "    \"query_product_catalog\": query_product_catalog\n",
        "}"
      ]
    },
    {
      "cell_type": "markdown",
      "metadata": {
        "id": "HZRhTu4ftLGp"
      },
      "source": [
        "### Step 3 - Configure the request to the model\n",
        "\n",
        "The developer provides a few things to the model:\n",
        "- A preamble containing instructions about the task and the desired style for the output.\n",
        "- The user request.\n",
        "- A list of tools to the model.\n",
        "- (Optionally) a chat history for the model to work with.\n",
        "\n",
        "\n",
        "You can specify one or many tools to the model. Every tool needs to be described with a JSON schema, indicating the tool name, description, and parameters (code snippets below).\n",
        "\n",
        "In our example, we provide two tools to the model: `daily_sales_report` and `product_catalog`.\n"
      ]
    },
    {
      "cell_type": "markdown",
      "metadata": {},
      "source": [
        "Defining the tools using Bedrock APIs is a bit different than with Cohere's APIs. Here is an example of the same tools being define for Cohere's APIs: \n",
        "\n",
        "```\n",
        "tools = [\n",
        "    {\n",
        "        \"name\": \"query_daily_sales_report\",\n",
        "        \"description\": \"Connects to a database to retrieve overall sales volumes and sales information for a given day.\",\n",
        "        \"parameter_definitions\": {\n",
        "            \"day\": {\n",
        "                \"description\": \"Retrieves sales data for this day, formatted as YYYY-MM-DD.\",\n",
        "                \"type\": \"str\",\n",
        "                \"required\": True\n",
        "            }\n",
        "        }\n",
        "    },\n",
        "    {\n",
        "        \"name\": \"query_product_catalog\",\n",
        "        \"description\": \"Connects to a a product catalog with information about all the products being sold, including categories, prices, and stock levels.\",\n",
        "        \"parameter_definitions\": {\n",
        "            \"category\": {\n",
        "                \"description\": \"Retrieves product information data for all products in this category.\",\n",
        "                \"type\": \"str\",\n",
        "                \"required\": True\n",
        "            }\n",
        "        }\n",
        "    }\n",
        "]\n",
        "```"
      ]
    },
    {
      "cell_type": "markdown",
      "metadata": {},
      "source": [
        "Here is the same tools being defined for Bedrock APIs. You can see that the key differences are where the descriptions are defined and the toolspec key. We recommend defining tools this way in an array, appending each tool to keep the same structure."
      ]
    },
    {
      "cell_type": "code",
      "execution_count": null,
      "metadata": {},
      "outputs": [],
      "source": [
        "tool_config = {'tools': []}\n",
        "\n",
        "tool_config['tools'].append({\n",
        "    'toolSpec': {\n",
        "        'name': 'query_daily_sales_report',\n",
        "        'description': 'Connects to a database to retrieve overall sales volumes and sales information for a given day.',\n",
        "        'inputSchema': {\n",
        "            'json': {\n",
        "                'type': 'object',\n",
        "                'properties': {\n",
        "                    'day': {\n",
        "                        'type': 'string',\n",
        "                        'description': 'Retrieves sales data for this day, formatted as YYYY-MM-DD.'\n",
        "                    }\n",
        "                },\n",
        "                'required': [\n",
        "                    'day'\n",
        "                ]\n",
        "            }\n",
        "        }\n",
        "    }\n",
        "})\n",
        "\n",
        "\n",
        "tool_config['tools'].append({\n",
        "    'toolSpec': {\n",
        "        'name': 'query_product_catalog',\n",
        "        'description': 'Connects to a a product catalog with information about all the products being sold, including categories, prices, and stock levels.',\n",
        "        'inputSchema': {\n",
        "            'json': {\n",
        "                'type': 'object',\n",
        "                'properties': {\n",
        "                    'category': {\n",
        "                        'type': 'string',\n",
        "                        'description': 'Retrieves product information data for all products in this category.'\n",
        "                    }\n",
        "                },\n",
        "                'required': [\n",
        "                    'category'\n",
        "                ]\n",
        "            }\n",
        "        }\n",
        "    }\n",
        "})"
      ]
    },
    {
      "cell_type": "markdown",
      "metadata": {
        "id": "k2AHJRnztLGp"
      },
      "source": [
        "Now let's define the user request.  \n",
        "\n",
        "In our example we'll use: \"Can you provide a sales summary for 29th September 2023, and also give me the details of all products in the 'Electronics' category that were sold that day, including their prices and stock levels?\"\n",
        "\n",
        "Only a langage model with Tool Use can answer this request: it requires looking up information in the right external tools (step 2), and then providing a final answer based on the tool results (step 4)."
      ]
    },
    {
      "cell_type": "code",
      "execution_count": null,
      "metadata": {
        "id": "JuDgJ7fjtLGq"
      },
      "outputs": [],
      "source": [
        "# preamble containing instructions about the task and the desired style for the output.\n",
        "\n",
        "additional_model_fields ={\"preamble\": \"\"\"\n",
        "## Task & Context\n",
        "You help people answer their questions and other requests interactively. You will be asked a very wide array of requests on all kinds of topics. You will be equipped with a wide range of search engines or similar tools to help you, which you use to research your answer. You should focus on serving the user's needs as best you can, which will be wide-ranging.\n",
        "\n",
        "## Style Guide\n",
        "Unless the user asks for a different style of answer, you should answer in full sentences, using proper grammar and spelling.\n",
        "\"\"\"\n",
        "}\n",
        "# user request\n",
        "input_text = \"Can you provide a sales summary for 29th September 2023, and also give me some details about the products in the 'Electronics' category, for example their prices and stock levels?\"\n"
      ]
    },
    {
      "cell_type": "markdown",
      "metadata": {
        "id": "1NhW-G_JtLGq"
      },
      "source": [
        "### Step 4 – the model smartly decides which tool(s) to use and how\n",
        "The model intelligently selects the right tool(s) to call -- and the right parameters for each tool call -- based on the content of the user message."
      ]
    },
    {
      "cell_type": "code",
      "execution_count": null,
      "metadata": {
        "colab": {
          "base_uri": "https://localhost:8080/"
        },
        "id": "o79_n99GtLGq",
        "outputId": "81789d00-01b9-4c17-d1b0-1668d75a2b86"
      },
      "outputs": [],
      "source": [
        "#define the converse function that will call converse API from Bedrock\n",
        "def converse(messages, tool_config,  model_id):\n",
        "    response = bedrock_rt.converse(\n",
        "        messages=messages,\n",
        "        toolConfig=tool_config,\n",
        "        additionalModelRequestFields=additional_model_fields,\n",
        "        modelId = model_id\n",
        "    )\n",
        "    return response\n",
        "\n",
        "messages =[]\n",
        "messages.append({\n",
        "        \"role\": \"user\",\n",
        "        \"content\": [{\"text\": input_text}]\n",
        "    }\n",
        ")\n",
        "\n",
        "response = converse(messages, tool_config, model_id)\n",
        "\n",
        "print(\"The model recommends doing the following tool calls:\")\n",
        "for content in response['output']['message']['content']:\n",
        "    if 'toolUse' in content:\n",
        "        print(\"\\n\")\n",
        "        print(content['toolUse'])"
      ]
    },
    {
      "cell_type": "markdown",
      "metadata": {
        "id": "md_9QPcxtLGq"
      },
      "source": [
        "### Step 5 – the tool calls are executed\n",
        "\n",
        "You can then execute the appropriate calls, using the tool calls and tool parameters generated by the model.  \n",
        "These tool calls return tool results that will be fed to the model in Step 4."
      ]
    },
    {
      "cell_type": "code",
      "execution_count": null,
      "metadata": {
        "colab": {
          "base_uri": "https://localhost:8080/"
        },
        "id": "1LuDCRpFtLGr",
        "outputId": "42ead35e-225a-4b9a-c954-b526f2865350"
      },
      "outputs": [],
      "source": [
        "tool_results = []\n",
        "# Iterate over the tool calls generated by the model\n",
        "for content in response['output']['message']['content']:\n",
        "    if 'toolUse' in content:\n",
        "        tool_call = content['toolUse']\n",
        "        # here is where you would call the tool recommended by the model, using the parameters recommended by the model\n",
        "        # Get the function name from the tool_call dictionary\n",
        "        print(f\"= running tool {tool_call['name']}, with parameters: {tool_call['input']}\")\n",
        "    \n",
        "        output = functions_map[tool_call['name']](*tool_call['input'])\n",
        "        outputs = [output]\n",
        "        print(outputs)\n",
        "        print(f\"== tool results: {outputs}\")\n",
        "        # store your tool results in this format\n",
        "        tool_results.append({\n",
        "            \"role\": \"user\",\n",
        "            \"content\": [\n",
        "                {\n",
        "                'toolResult': {\n",
        "                    'toolUseId':tool_call['toolUseId'],\n",
        "                    'content': [\n",
        "                        {\n",
        "                            \"text\": output\n",
        "                        }\n",
        "                    ]\n",
        "                }\n",
        "                }\n",
        "            ]\n",
        "        \n",
        "        })\n",
        "\n",
        "print(\"Tool results that will be fed back to the model in step 4:\")\n",
        "print(json.dumps(tool_results, indent=4))"
      ]
    },
    {
      "cell_type": "markdown",
      "metadata": {
        "id": "8cKlLk18tLGr"
      },
      "source": [
        "### Step 6 - the model generates a final answer based on the tool results\n",
        "Finally, the developer calls the Cohere model, providing the tools results, in order to generate the model's final answer.  \n",
        "\n",
        "Bonus: At Cohere, all Tool Use calls come with... **precise citations**! 🎉\n",
        "The model cites which tool results were used to generate the final answer.  \n",
        "These citations make it easy to check where the model’s generated response claims are coming from.  \n",
        "They help users gain visibility into the model reasoning, and sanity check the final model generation.  \n",
        "These citations are optional — you can decide to ignore them.\n",
        "\n"
      ]
    },
    {
      "cell_type": "code",
      "execution_count": null,
      "metadata": {
        "id": "MKnjXVfXtLGr"
      },
      "outputs": [],
      "source": [
        "def converse_with_tools(messages,  model_id):\n",
        "    response = bedrock_rt.converse(\n",
        "        messages=messages,\n",
        "        additionalModelRequestFields=additional_model_fields,\n",
        "        inferenceConfig = {\n",
        "            \"temperature\": 0.3\n",
        "        },\n",
        "        modelId = model_id\n",
        "    )\n",
        "    return response\n",
        "\n",
        "\n",
        "response = converse_with_tools(messages, model_id)"
      ]
    },
    {
      "cell_type": "code",
      "execution_count": null,
      "metadata": {
        "colab": {
          "base_uri": "https://localhost:8080/"
        },
        "id": "jlxKTsaztLGr",
        "outputId": "b2cd8667-bca9-4928-c423-61930b4b49fa"
      },
      "outputs": [],
      "source": [
        "print(\"Final answer:\")\n",
        "print(response['output']['message']['content'][0]['text'])"
      ]
    },
    {
      "cell_type": "markdown",
      "metadata": {
        "id": "RwH2O3FptLGr"
      },
      "source": [
        "---\n",
        "## Conclusion\n",
        "\n",
        "Tool use opens up a wide range of new use cases. Here are a few examples:\n",
        "\n",
        "- **Function calling**: It's now possible to ask the model to output a JSON object with specific function parameters.\n",
        "For instance, this allows your chatbot to interact with your CRM to change the status of a deal, or to engage with a Python interpreter to conduct data science analyses.\n",
        "\n",
        "- **Query transformation**: You can transform a user message into a search query for a vector database or any search engine.\n",
        "For instance, this enables your work assistant to automatically retrieve the appropriate data from your company's documentation by creating the right query for your vector database.\n",
        "\n",
        "- **Advanced searches**: You can transform a user message into one-or-many queries, to do multiple subtasks based on the content of the message.\n",
        "For instance, this allows your chatbot to search across different databases and platforms to retrieve relevant information or to conduct comparative analysis.\n",
        "\n"
      ]
    },
    {
      "cell_type": "markdown",
      "metadata": {},
      "source": []
    }
  ],
  "metadata": {
    "colab": {
      "provenance": []
    },
    "kernelspec": {
      "display_name": "hackathon_demo",
      "language": "python",
      "name": "python3"
    },
    "language_info": {
      "codemirror_mode": {
        "name": "ipython",
        "version": 3
      },
      "file_extension": ".py",
      "mimetype": "text/x-python",
      "name": "python",
      "nbconvert_exporter": "python",
      "pygments_lexer": "ipython3",
      "version": "3.11.4"
    }
  },
  "nbformat": 4,
  "nbformat_minor": 0
}
